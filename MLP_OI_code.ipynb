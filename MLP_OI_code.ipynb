{
  "nbformat": 4,
  "nbformat_minor": 0,
  "metadata": {
    "colab": {
      "provenance": [],
      "include_colab_link": true
    },
    "kernelspec": {
      "name": "python3",
      "display_name": "Python 3"
    },
    "language_info": {
      "name": "python"
    }
  },
  "cells": [
    {
      "cell_type": "markdown",
      "metadata": {
        "id": "view-in-github",
        "colab_type": "text"
      },
      "source": [
        "<a href=\"https://colab.research.google.com/github/Ulisex666/MLP-with-classic-optimization/blob/main/MLP_OI_code.ipynb\" target=\"_parent\"><img src=\"https://colab.research.google.com/assets/colab-badge.svg\" alt=\"Open In Colab\"/></a>"
      ]
    },
    {
      "cell_type": "markdown",
      "source": [
        "Primera versión MLP"
      ],
      "metadata": {
        "id": "6weKwXa0u9BT"
      }
    },
    {
      "cell_type": "code",
      "source": [
        "import numpy as np\n",
        "import matplotlib.pyplot as plt\n",
        "from sklearn.preprocessing import OneHotEncoder, StandardScaler, LabelEncoder\n",
        "from sklearn.model_selection import train_test_split\n",
        "import pandas as pd\n",
        "import numpy as np"
      ],
      "metadata": {
        "id": "pPTyYC2Ou5j2"
      },
      "execution_count": null,
      "outputs": []
    },
    {
      "cell_type": "code",
      "source": [
        "from google.colab import drive\n",
        "drive.mount('/content/drive')"
      ],
      "metadata": {
        "colab": {
          "base_uri": "https://localhost:8080/"
        },
        "id": "2OFYjQKnVx1N",
        "outputId": "ef419032-5f6c-4439-c3ba-1333ce0f96f5"
      },
      "execution_count": null,
      "outputs": [
        {
          "output_type": "stream",
          "name": "stdout",
          "text": [
            "Mounted at /content/drive\n"
          ]
        }
      ]
    },
    {
      "cell_type": "code",
      "source": [
        "import gdown\n",
        "# Este apartado carga la base de datos iris desde el Drive del proyecto.\n",
        "# ID del archivo en Google Drive\n",
        "file_id = '1uc7uW6-Y4tdqfxE2SrnyiHM7hTa05XLM'\n",
        "\n",
        "# URL de descarga\n",
        "url = f'https://drive.google.com/uc?id={file_id}'\n",
        "\n",
        "# Nombre del archivo descargado\n",
        "output = 'mi_archivo.csv'\n",
        "\n",
        "# Descargar el archivo\n",
        "gdown.download(url, output, quiet=False)\n",
        "\n",
        "# Cargar el archivo CSV\n",
        "import pandas as pd\n",
        "df = pd.read_csv(output)\n",
        "\n",
        "# Mostrar las primeras filas del archivo\n",
        "print(df.head())"
      ],
      "metadata": {
        "colab": {
          "base_uri": "https://localhost:8080/"
        },
        "id": "kljeTxDAV1Pn",
        "outputId": "5910d9f4-47e0-47b0-f1b6-e2842e18967b"
      },
      "execution_count": null,
      "outputs": [
        {
          "output_type": "stream",
          "name": "stderr",
          "text": [
            "Downloading...\n",
            "From: https://drive.google.com/uc?id=1uc7uW6-Y4tdqfxE2SrnyiHM7hTa05XLM\n",
            "To: /content/mi_archivo.csv\n",
            "100%|██████████| 3.98k/3.98k [00:00<00:00, 10.2MB/s]"
          ]
        },
        {
          "output_type": "stream",
          "name": "stdout",
          "text": [
            "   sepal.length  sepal.width  petal.length  petal.width variety\n",
            "0           5.1          3.5           1.4          0.2  Setosa\n",
            "1           4.9          3.0           1.4          0.2  Setosa\n",
            "2           4.7          3.2           1.3          0.2  Setosa\n",
            "3           4.6          3.1           1.5          0.2  Setosa\n",
            "4           5.0          3.6           1.4          0.2  Setosa\n"
          ]
        },
        {
          "output_type": "stream",
          "name": "stderr",
          "text": [
            "\n"
          ]
        }
      ]
    },
    {
      "cell_type": "code",
      "source": [
        "# La última columna 'variety' contiene las etiquetas de las clases\n",
        "X = df.iloc[:, :-1].values  # Características (todas las columnas excepto la última)\n",
        "y = df.iloc[:, -1].values   # Etiquetas (última columna)\n",
        "\n",
        "# Aplicar One-Hot Encoding a las etiquetas\n",
        "encoder = OneHotEncoder(sparse_output=False)\n",
        "y_onehot = encoder.fit_transform(y.reshape(-1, 1))"
      ],
      "metadata": {
        "id": "q5wLaysVXeOA"
      },
      "execution_count": null,
      "outputs": []
    },
    {
      "cell_type": "code",
      "source": [
        "# Crear un estandarizador\n",
        "scaler = StandardScaler()\n",
        "\n",
        "# Estandarizar las características\n",
        "X_standardized = scaler.fit_transform(X)"
      ],
      "metadata": {
        "id": "7PwcY0T5Xyd1"
      },
      "execution_count": null,
      "outputs": []
    },
    {
      "cell_type": "code",
      "source": [
        "# División del dataset en entrenamiento y prueba\n",
        "X_train, X_test, y_train, y_test = train_test_split(X_standardized, y_onehot, test_size=0.2, random_state=42)"
      ],
      "metadata": {
        "id": "9n7nCKSGX0hK"
      },
      "execution_count": null,
      "outputs": []
    },
    {
      "cell_type": "code",
      "source": [
        "# Clase MLP\n",
        "class MLP:\n",
        "    def __init__(self, input_size, hidden_size, output_size, learning_rate=0.01):\n",
        "        # Inicialización de pesos y sesgos para un MLP con 2 hidden layers.\n",
        "        self.input_size = input_size\n",
        "        self.hidden_size = hidden_size\n",
        "        self.output_size = output_size\n",
        "        self.learning_rate = learning_rate\n",
        "\n",
        "        # Matrices de pesos para cada conexión de nodos entre capas ocultas y output layer, se multiplica por 0.01\n",
        "        # dadas las recomendaciones de iniciar con valores pequeños para los pesos.\n",
        "        self.W1 = np.random.randn(self.input_size, self.hidden_size)\n",
        "        self.W2 = np.random.randn(self.hidden_size, self.hidden_size)\n",
        "        self.W3 = np.random.randn(self.hidden_size, self.output_size)\n",
        "\n",
        "        # Sesgos iniciales, ceros en un principio, toman la dimensión de las capas a las que se dirigen\n",
        "        self.b1 = np.zeros((1, self.hidden_size))\n",
        "        self.b2 = np.zeros((1, self.hidden_size))\n",
        "        self.b3 = np.zeros((1, self.output_size))\n",
        "\n",
        "    def sigmoid(self, x):\n",
        "        return 1 / (1 + np.exp(-x))\n",
        "\n",
        "    def sigmoid_derivative(self, x):\n",
        "        return x * (1 - x)\n",
        "\n",
        "    def forward(self, X):\n",
        "        # Feed forward propagation\n",
        "        # Multiplicación entre valores de entrenamiento y pesos, agregando el bias asignado a cada conexión\n",
        "        self.Z1 = np.dot(X, self.W1) + self.b1\n",
        "        self.A1 = self.sigmoid(self.Z1)\n",
        "\n",
        "        self.Z2 = np.dot(self.A1, self.W2) + self.b2\n",
        "        self.A2 = self.sigmoid(self.Z2)\n",
        "\n",
        "        # Se ejecuta este proceso hasta obtener los valores de los nodos en el output layer\n",
        "        self.Z3 = np.dot(self.A2, self.W3) + self.b3\n",
        "        self.A3 = self.sigmoid(self.Z3)\n",
        "\n",
        "        # Al final, devuelve la activación de la output layer, estos son los valores que nos servirán para hacer predicciones\n",
        "        # con nuestro modelo.\n",
        "\n",
        "        # REVISAR ESTAS ACTIVACIONES Y CÓMO SE RELACIONAN CON LA PREDICCIÓN.\n",
        "        return self.A3\n",
        "\n",
        "    def back_prop(self, X, y):\n",
        "        # Cálculo del error y retropropagación\n",
        "        m = X.shape[0]\n",
        "\n",
        "        # Error de la capa de salida\n",
        "        # Se calcula el error absoluto en la capa de salida, es decir, nuestra predicción menos los valores reales.\n",
        "        dA3 = self.A3 - y\n",
        "        # Este valor se multiplica por la derivada de la función de activación evaluada en las predicciones\n",
        "        dZ3 = dA3 * self.sigmoid_derivative(self.A3)\n",
        "        # Se ejecutan los cambios en los pesos para las conexiones entre última hidden layer y output layer\n",
        "        # REVISAR LA DIVISIÓN ENTRE m.\n",
        "        dW3 = np.dot(self.A2.T, dZ3) / m\n",
        "        db3 = np.sum(dZ3, axis=0, keepdims=True) / m\n",
        "\n",
        "        # Error de la segunda capa oculta, se repite el proceso anterior, utilizando como diferencia los valores predichos antes\n",
        "        # y comparandolos con los pesos actuales, esto permite calcular el error en los anteriores valores que se estimaron.\n",
        "        dA2 = np.dot(dZ3, self.W3.T)\n",
        "        dZ2 = dA2 * self.sigmoid_derivative(self.A2)\n",
        "        dW2 = np.dot(self.A1.T, dZ2) / m\n",
        "        db2 = np.sum(dZ2, axis=0, keepdims=True) / m\n",
        "\n",
        "        # Error de la primera capa oculta\n",
        "        dA1 = np.dot(dZ2, self.W2.T)\n",
        "        dZ1 = dA1 * self.sigmoid_derivative(self.A1)\n",
        "        dW1 = np.dot(X.T, dZ1) / m\n",
        "        db1 = np.sum(dZ1, axis=0, keepdims=True) / m\n",
        "\n",
        "        # Actualización de pesos y sesgos, multiplicándolos por el learning rate.\n",
        "        self.W1 -= self.learning_rate * dW1\n",
        "        self.W2 -= self.learning_rate * dW2\n",
        "        self.W3 -= self.learning_rate * dW3\n",
        "\n",
        "        self.b1 -= self.learning_rate * db1\n",
        "        self.b2 -= self.learning_rate * db2\n",
        "        self.b3 -= self.learning_rate * db3\n",
        "\n",
        "\n",
        "    # Entrenamiento\n",
        "    def train(self, X_train, y_train, epochs):\n",
        "        error_history = []\n",
        "        for epoch in range(epochs):\n",
        "            # Propagación hacia adelante con conjunto de entrenamiento\n",
        "            y_pred = self.forward(X_train)\n",
        "\n",
        "            # Cálculo del error cuadrático medio\n",
        "            error = np.mean(np.square(y_train - y_pred))\n",
        "            error_history.append(error)\n",
        "\n",
        "            # Retropropagación y actualización de pesos\n",
        "            self.back_prop(X_train, y_train)\n",
        "\n",
        "            if epoch % 100 == 0:\n",
        "                print(f'Epoch {epoch}/{epochs}, Error: {error}')\n",
        "\n",
        "        return error_history\n",
        "\n",
        "    # Predicción\n",
        "    def predict(self, X_test, y_test):\n",
        "        # Se guardan las predicciones del modelo\n",
        "        pred = self.forward(X_test)\n",
        "        pred = (pred == pred.max(axis=1, keepdims=True)).astype(int)\n",
        "        accuracy = np.mean(np.all(pred == y_test, axis=1))\n",
        "        print(f\"Accuracy: {accuracy}\")"
      ],
      "metadata": {
        "id": "ZL_xWkrkX3Wq"
      },
      "execution_count": null,
      "outputs": []
    },
    {
      "cell_type": "code",
      "source": [
        "# Creamos el objeto mlp que será una instancia de la clase MLP con parámetros concretos\n",
        "# es decir, el modelo se entrena con los parámetros y obtenemos un modelo entrenado con dichos parámetros\n",
        "# esto se puede utilizar para realizar predicciones futuras.\n",
        "mlp = MLP(input_size=4, hidden_size=10, output_size=3, learning_rate=0.1)\n",
        "error_history = mlp.train(X_train, y_train, epochs=1000)"
      ],
      "metadata": {
        "colab": {
          "base_uri": "https://localhost:8080/"
        },
        "id": "2fUsy_03X65c",
        "outputId": "f5459f93-7e43-4129-b150-474917a1d3f4"
      },
      "execution_count": null,
      "outputs": [
        {
          "output_type": "stream",
          "name": "stdout",
          "text": [
            "Epoch 0/1000, Error: 0.5844128951748344\n",
            "Epoch 100/1000, Error: 0.39465389831198056\n",
            "Epoch 200/1000, Error: 0.22209098812969716\n",
            "Epoch 300/1000, Error: 0.19540151763576108\n",
            "Epoch 400/1000, Error: 0.17493537439088439\n",
            "Epoch 500/1000, Error: 0.15378220438299656\n",
            "Epoch 600/1000, Error: 0.13655631572485205\n",
            "Epoch 700/1000, Error: 0.12418960128644912\n",
            "Epoch 800/1000, Error: 0.11521800233763674\n",
            "Epoch 900/1000, Error: 0.10831167258339215\n"
          ]
        }
      ]
    },
    {
      "cell_type": "code",
      "source": [
        "# Graficar el error durante el entrenamiento\n",
        "plt.plot(error_history)\n",
        "plt.title('Error durante el entrenamiento')\n",
        "plt.xlabel('Epochs')\n",
        "plt.ylabel('Error (MSE)')\n",
        "plt.show()"
      ],
      "metadata": {
        "colab": {
          "base_uri": "https://localhost:8080/",
          "height": 492
        },
        "id": "ApA784gbX8xE",
        "outputId": "2a872581-ca4e-4245-eb7b-99d540c1e696"
      },
      "execution_count": null,
      "outputs": [
        {
          "output_type": "display_data",
          "data": {
            "text/plain": [
              "<Figure size 640x480 with 1 Axes>"
            ],
            "image/png": "[encoded data removed]"
          },
          "metadata": {}
        }
      ]
    },
    {
      "cell_type": "code",
      "source": [
        "# mlp con datos de prueba\n",
        "mlp.predict(X_test, y_test)"
      ],
      "metadata": {
        "colab": {
          "base_uri": "https://localhost:8080/"
        },
        "id": "YXXuv5kxYAwM",
        "outputId": "a9cdb42d-a38c-4e44-c1af-075eefb77396"
      },
      "execution_count": null,
      "outputs": [
        {
          "output_type": "stream",
          "name": "stdout",
          "text": [
            "Accuracy: 0.9\n"
          ]
        }
      ]
    },
    {
      "cell_type": "code",
      "source": [],
      "metadata": {
        "id": "dNxhpJmPYIx7"
      },
      "execution_count": null,
      "outputs": []
    }
  ]
}